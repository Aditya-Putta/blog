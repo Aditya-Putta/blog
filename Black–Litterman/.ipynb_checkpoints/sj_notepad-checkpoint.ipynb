{
 "cells": [
  {
   "cell_type": "code",
   "execution_count": 3,
   "metadata": {},
   "outputs": [],
   "source": [
    "from scipy import stats\n",
    "import numpy as np\n",
    "import pandas as pd\n",
    "idx = pd.IndexSlice"
   ]
  },
  {
   "cell_type": "code",
   "execution_count": 6,
   "metadata": {},
   "outputs": [],
   "source": [
    "DATA_STORE = '../../../../machine-learning-for-trading-master/\\\n",
    "machine-learning-for-trading-master/data/nse_asset.h5'"
   ]
  },
  {
   "cell_type": "code",
   "execution_count": 7,
   "metadata": {},
   "outputs": [
    {
     "name": "stdout",
     "output_type": "stream",
     "text": [
      "<class 'pandas.io.pytables.HDFStore'>\n",
      "File path: ../../../../machine-learning-for-trading-master/machine-learning-for-trading-master/data/nse_asset.h5\n",
      "/nse/nse50/metadata            frame        (shape->[1,3])      \n",
      "/nse/nse500/metadat            frame        (shape->[1,5])      \n",
      "/nse/nse500/prices             frame        (shape->[2559907,7])\n"
     ]
    }
   ],
   "source": [
    "with pd.HDFStore(DATA_STORE) as store:\n",
    "    print(store.info())"
   ]
  },
  {
   "cell_type": "code",
   "execution_count": 96,
   "metadata": {},
   "outputs": [
    {
     "data": {
      "text/html": [
       "<div>\n",
       "<style scoped>\n",
       "    .dataframe tbody tr th:only-of-type {\n",
       "        vertical-align: middle;\n",
       "    }\n",
       "\n",
       "    .dataframe tbody tr th {\n",
       "        vertical-align: top;\n",
       "    }\n",
       "\n",
       "    .dataframe thead th {\n",
       "        text-align: right;\n",
       "    }\n",
       "</style>\n",
       "<table border=\"1\" class=\"dataframe\">\n",
       "  <thead>\n",
       "    <tr style=\"text-align: right;\">\n",
       "      <th></th>\n",
       "      <th>Company Name</th>\n",
       "      <th>Symbol</th>\n",
       "      <th>Sector</th>\n",
       "    </tr>\n",
       "  </thead>\n",
       "  <tbody>\n",
       "    <tr>\n",
       "      <th>0</th>\n",
       "      <td>Adani Ports</td>\n",
       "      <td>ADANIPORTS.NS</td>\n",
       "      <td>Infrastructure</td>\n",
       "    </tr>\n",
       "    <tr>\n",
       "      <th>1</th>\n",
       "      <td>Asian Paints</td>\n",
       "      <td>ASIANPAINT.NS</td>\n",
       "      <td>Consumer Goods</td>\n",
       "    </tr>\n",
       "  </tbody>\n",
       "</table>\n",
       "</div>"
      ],
      "text/plain": [
       "   Company Name         Symbol          Sector\n",
       "0   Adani Ports  ADANIPORTS.NS  Infrastructure\n",
       "1  Asian Paints  ASIANPAINT.NS  Consumer Goods"
      ]
     },
     "execution_count": 96,
     "metadata": {},
     "output_type": "execute_result"
    }
   ],
   "source": [
    "with pd.HDFStore(DATA_STORE) as store:\n",
    "    nifty50 = (store['/nse/nse50/metadata'])\n",
    "nifty50.head(2)"
   ]
  },
  {
   "cell_type": "code",
   "execution_count": 97,
   "metadata": {},
   "outputs": [],
   "source": [
    "nifty50.to_csv('data/nifty50_meta_nse.csv',index=False)"
   ]
  },
  {
   "cell_type": "code",
   "execution_count": 9,
   "metadata": {},
   "outputs": [
    {
     "name": "stdout",
     "output_type": "stream",
     "text": [
      "['ADANIPORTS', 'ASIANPAINT', 'AXISBANK', 'BAJAJ-AUTO', 'BAJFINANCE', 'BAJAJFINSV', 'BHARTIARTL', 'INFRATEL', 'BPCL', 'BRITANNIA', 'CIPLA', 'COALINDIA', 'DRREDDY', 'EICHERMOT', 'GAIL', 'GRASIM', 'HCLTECH', 'HDFC', 'HDFCBANK', 'HEROMOTOCO', 'HINDALCO', 'HINDUNILVR', 'ICICIBANK', 'INDUSINDBK', 'INFY', 'IOC', 'ITC', 'JSWSTEEL', 'KOTAKBANK', 'LT', 'M&M', 'MARUTI', 'NESTLEIND', 'NTPC', 'ONGC', 'POWERGRID', 'RELIANCE', 'SHREECEM', 'SBIN', 'SUNPHARMA', 'TCS', 'TATAMOTORS', 'TATASTEEL', 'TECHM', 'TITAN', 'ULTRACEMCO', 'UPL', 'VEDL', 'WIPRO', 'ZEEL']\n"
     ]
    }
   ],
   "source": [
    "tickers = [ticker[:-3] for ticker in nifty50.Symbol]\n",
    "print(tickers)"
   ]
  },
  {
   "cell_type": "code",
   "execution_count": 84,
   "metadata": {},
   "outputs": [
    {
     "data": {
      "text/html": [
       "<div>\n",
       "<style scoped>\n",
       "    .dataframe tbody tr th:only-of-type {\n",
       "        vertical-align: middle;\n",
       "    }\n",
       "\n",
       "    .dataframe tbody tr th {\n",
       "        vertical-align: top;\n",
       "    }\n",
       "\n",
       "    .dataframe thead th {\n",
       "        text-align: right;\n",
       "    }\n",
       "</style>\n",
       "<table border=\"1\" class=\"dataframe\">\n",
       "  <thead>\n",
       "    <tr style=\"text-align: right;\">\n",
       "      <th></th>\n",
       "      <th></th>\n",
       "      <th>close</th>\n",
       "      <th>dividend</th>\n",
       "      <th>high</th>\n",
       "      <th>low</th>\n",
       "      <th>open</th>\n",
       "      <th>split</th>\n",
       "      <th>volume</th>\n",
       "    </tr>\n",
       "    <tr>\n",
       "      <th>ticker</th>\n",
       "      <th>date</th>\n",
       "      <th></th>\n",
       "      <th></th>\n",
       "      <th></th>\n",
       "      <th></th>\n",
       "      <th></th>\n",
       "      <th></th>\n",
       "      <th></th>\n",
       "    </tr>\n",
       "  </thead>\n",
       "  <tbody>\n",
       "    <tr>\n",
       "      <th rowspan=\"2\" valign=\"top\">ADANIPORTS</th>\n",
       "      <th>2007-11-27</th>\n",
       "      <td>167.638992</td>\n",
       "      <td>0.0</td>\n",
       "      <td>207.000000</td>\n",
       "      <td>154.000000</td>\n",
       "      <td>154.0</td>\n",
       "      <td>0.0</td>\n",
       "      <td>27262366.0</td>\n",
       "    </tr>\n",
       "    <tr>\n",
       "      <th>2007-11-28</th>\n",
       "      <td>154.703354</td>\n",
       "      <td>0.0</td>\n",
       "      <td>197.800003</td>\n",
       "      <td>174.929993</td>\n",
       "      <td>194.0</td>\n",
       "      <td>0.0</td>\n",
       "      <td>21958915.0</td>\n",
       "    </tr>\n",
       "  </tbody>\n",
       "</table>\n",
       "</div>"
      ],
      "text/plain": [
       "                            close  dividend        high         low   open  \\\n",
       "ticker     date                                                              \n",
       "ADANIPORTS 2007-11-27  167.638992       0.0  207.000000  154.000000  154.0   \n",
       "           2007-11-28  154.703354       0.0  197.800003  174.929993  194.0   \n",
       "\n",
       "                       split      volume  \n",
       "ticker     date                           \n",
       "ADANIPORTS 2007-11-27    0.0  27262366.0  \n",
       "           2007-11-28    0.0  21958915.0  "
      ]
     },
     "execution_count": 84,
     "metadata": {},
     "output_type": "execute_result"
    }
   ],
   "source": [
    "with pd.HDFStore(DATA_STORE) as store:\n",
    "    prices = (store['/nse/nse500/prices'].loc[['ADANIPORTS', 'ASIANPAINT', 'AXISBANK',\n",
    "                                               'BAJAJ-AUTO', 'BAJFINANCE', 'BAJAJFINSV', 'BHARTIARTL']])\n",
    "prices.head(2)"
   ]
  },
  {
   "cell_type": "code",
   "execution_count": 85,
   "metadata": {},
   "outputs": [
    {
     "data": {
      "text/html": [
       "<div>\n",
       "<style scoped>\n",
       "    .dataframe tbody tr th:only-of-type {\n",
       "        vertical-align: middle;\n",
       "    }\n",
       "\n",
       "    .dataframe tbody tr th {\n",
       "        vertical-align: top;\n",
       "    }\n",
       "\n",
       "    .dataframe thead th {\n",
       "        text-align: right;\n",
       "    }\n",
       "</style>\n",
       "<table border=\"1\" class=\"dataframe\">\n",
       "  <thead>\n",
       "    <tr style=\"text-align: right;\">\n",
       "      <th>ticker</th>\n",
       "      <th>ADANIPORTS</th>\n",
       "      <th>ASIANPAINT</th>\n",
       "      <th>AXISBANK</th>\n",
       "      <th>BAJAJ-AUTO</th>\n",
       "      <th>BAJAJFINSV</th>\n",
       "      <th>BAJFINANCE</th>\n",
       "      <th>BHARTIARTL</th>\n",
       "    </tr>\n",
       "    <tr>\n",
       "      <th>date</th>\n",
       "      <th></th>\n",
       "      <th></th>\n",
       "      <th></th>\n",
       "      <th></th>\n",
       "      <th></th>\n",
       "      <th></th>\n",
       "      <th></th>\n",
       "    </tr>\n",
       "  </thead>\n",
       "  <tbody>\n",
       "    <tr>\n",
       "      <th>2007-11-27</th>\n",
       "      <td>167.638992</td>\n",
       "      <td>46.054684</td>\n",
       "      <td>118.140648</td>\n",
       "      <td>NaN</td>\n",
       "      <td>NaN</td>\n",
       "      <td>12.117596</td>\n",
       "      <td>395.662659</td>\n",
       "    </tr>\n",
       "    <tr>\n",
       "      <th>2007-11-28</th>\n",
       "      <td>154.703354</td>\n",
       "      <td>46.305435</td>\n",
       "      <td>114.794525</td>\n",
       "      <td>NaN</td>\n",
       "      <td>NaN</td>\n",
       "      <td>12.218306</td>\n",
       "      <td>393.156708</td>\n",
       "    </tr>\n",
       "  </tbody>\n",
       "</table>\n",
       "</div>"
      ],
      "text/plain": [
       "ticker      ADANIPORTS  ASIANPAINT    AXISBANK  BAJAJ-AUTO  BAJAJFINSV  \\\n",
       "date                                                                     \n",
       "2007-11-27  167.638992   46.054684  118.140648         NaN         NaN   \n",
       "2007-11-28  154.703354   46.305435  114.794525         NaN         NaN   \n",
       "\n",
       "ticker      BAJFINANCE  BHARTIARTL  \n",
       "date                                \n",
       "2007-11-27   12.117596  395.662659  \n",
       "2007-11-28   12.218306  393.156708  "
      ]
     },
     "execution_count": 85,
     "metadata": {},
     "output_type": "execute_result"
    }
   ],
   "source": [
    "prices = prices.unstack('ticker')['close'].fillna(method='ffill')\n",
    "# prices = prices.unstack('ticker')['close'].fillna(method='ffill').resample('Y').last() #.dropna() #asfreq('Y')#.dropna()\n",
    "prices.head(2)"
   ]
  },
  {
   "cell_type": "code",
   "execution_count": 86,
   "metadata": {},
   "outputs": [],
   "source": [
    "def confIntMean(ts, conf=0.68):\n",
    "    pc = ts.pct_change()\n",
    "    mean, sigma = np.mean(pc) * 252, np.std(pc) * np.sqrt(252)\n",
    "    return stats.norm.interval(conf, loc=mean, scale=sigma / np.sqrt(len(pc)))"
   ]
  },
  {
   "cell_type": "code",
   "execution_count": 87,
   "metadata": {},
   "outputs": [],
   "source": [
    "conf_list = prices.apply(confIntMean)"
   ]
  },
  {
   "cell_type": "code",
   "execution_count": 88,
   "metadata": {},
   "outputs": [
    {
     "data": {
      "text/plain": [
       "array([(0.05671368561445099, 0.06277600482180577),\n",
       "       (0.21428473069871878, 0.22092742450689884),\n",
       "       (0.23229757480115748, 0.24294872138310802),\n",
       "       (0.0418205405571238, 0.04505286242609568),\n",
       "       (0.10668770993323906, 0.11227753781149924),\n",
       "       (0.6995128429900631, 0.7403463396538079),\n",
       "       (0.12450688887807013, 0.13211437998013845)], dtype=object)"
      ]
     },
     "execution_count": 88,
     "metadata": {},
     "output_type": "execute_result"
    }
   ],
   "source": [
    "conf_list.values"
   ]
  },
  {
   "cell_type": "code",
   "execution_count": 89,
   "metadata": {},
   "outputs": [],
   "source": [
    "url = 'https://www.moneyworks4me.com/best-index/nse-stocks/top-nifty50-companies-list/'\n",
    "nifty50 = pd.read_html(url, header=0)[0]"
   ]
  },
  {
   "cell_type": "code",
   "execution_count": 90,
   "metadata": {},
   "outputs": [
    {
     "data": {
      "text/html": [
       "<div>\n",
       "<style scoped>\n",
       "    .dataframe tbody tr th:only-of-type {\n",
       "        vertical-align: middle;\n",
       "    }\n",
       "\n",
       "    .dataframe tbody tr th {\n",
       "        vertical-align: top;\n",
       "    }\n",
       "\n",
       "    .dataframe thead th {\n",
       "        text-align: right;\n",
       "    }\n",
       "</style>\n",
       "<table border=\"1\" class=\"dataframe\">\n",
       "  <thead>\n",
       "    <tr style=\"text-align: right;\">\n",
       "      <th></th>\n",
       "      <th>Company Name (M.Cap)</th>\n",
       "      <th>Is it a Right Stock?</th>\n",
       "      <th>CMP</th>\n",
       "      <th>Price Change</th>\n",
       "      <th>Market Cap (Cr)</th>\n",
       "      <th>52W High</th>\n",
       "      <th>52W Low</th>\n",
       "      <th>ROE</th>\n",
       "      <th>P/E</th>\n",
       "      <th>P/BV</th>\n",
       "      <th>EV/EBITDA</th>\n",
       "    </tr>\n",
       "  </thead>\n",
       "  <tbody>\n",
       "    <tr>\n",
       "      <th>0</th>\n",
       "      <td>Mahindra &amp; Mahindra Ltd.(L)</td>\n",
       "      <td>1Very Good</td>\n",
       "      <td>508.7</td>\n",
       "      <td>7.22%</td>\n",
       "      <td>58986</td>\n",
       "      <td>675.0</td>\n",
       "      <td>245.8</td>\n",
       "      <td>14.95</td>\n",
       "      <td>12.60</td>\n",
       "      <td>1.60</td>\n",
       "      <td>8.25</td>\n",
       "    </tr>\n",
       "    <tr>\n",
       "      <th>1</th>\n",
       "      <td>Bharti Infratel Ltd.(L)</td>\n",
       "      <td>1Very Good</td>\n",
       "      <td>225.1</td>\n",
       "      <td>6.76%</td>\n",
       "      <td>38999</td>\n",
       "      <td>295.8</td>\n",
       "      <td>121.2</td>\n",
       "      <td>15.20</td>\n",
       "      <td>22.33</td>\n",
       "      <td>2.81</td>\n",
       "      <td>11.94</td>\n",
       "    </tr>\n",
       "    <tr>\n",
       "      <th>2</th>\n",
       "      <td>Shree Cement Ltd.(L)</td>\n",
       "      <td>1Very Good</td>\n",
       "      <td>22468.0</td>\n",
       "      <td>5.67%</td>\n",
       "      <td>76716</td>\n",
       "      <td>25341.0</td>\n",
       "      <td>15500.0</td>\n",
       "      <td>12.57</td>\n",
       "      <td>48.86</td>\n",
       "      <td>5.93</td>\n",
       "      <td>28.26</td>\n",
       "    </tr>\n",
       "  </tbody>\n",
       "</table>\n",
       "</div>"
      ],
      "text/plain": [
       "          Company Name (M.Cap) Is it a Right Stock?      CMP Price Change  \\\n",
       "0  Mahindra & Mahindra Ltd.(L)           1Very Good    508.7        7.22%   \n",
       "1      Bharti Infratel Ltd.(L)           1Very Good    225.1        6.76%   \n",
       "2         Shree Cement Ltd.(L)           1Very Good  22468.0        5.67%   \n",
       "\n",
       "   Market Cap (Cr)  52W High  52W Low    ROE    P/E  P/BV EV/EBITDA  \n",
       "0            58986     675.0    245.8  14.95  12.60  1.60      8.25  \n",
       "1            38999     295.8    121.2  15.20  22.33  2.81     11.94  \n",
       "2            76716   25341.0  15500.0  12.57  48.86  5.93     28.26  "
      ]
     },
     "execution_count": 90,
     "metadata": {},
     "output_type": "execute_result"
    }
   ],
   "source": [
    "nifty50.head(3)"
   ]
  },
  {
   "cell_type": "code",
   "execution_count": 94,
   "metadata": {},
   "outputs": [],
   "source": [
    "nifty50.to_csv('data/nifty50_meta.csv',index=False)"
   ]
  },
  {
   "cell_type": "code",
   "execution_count": 98,
   "metadata": {},
   "outputs": [
    {
     "data": {
      "text/html": [
       "<div>\n",
       "<style scoped>\n",
       "    .dataframe tbody tr th:only-of-type {\n",
       "        vertical-align: middle;\n",
       "    }\n",
       "\n",
       "    .dataframe tbody tr th {\n",
       "        vertical-align: top;\n",
       "    }\n",
       "\n",
       "    .dataframe thead th {\n",
       "        text-align: right;\n",
       "    }\n",
       "</style>\n",
       "<table border=\"1\" class=\"dataframe\">\n",
       "  <thead>\n",
       "    <tr style=\"text-align: right;\">\n",
       "      <th></th>\n",
       "      <th>Company Name (M.Cap)</th>\n",
       "      <th>Tickers</th>\n",
       "      <th>Market Cap (Cr)</th>\n",
       "    </tr>\n",
       "  </thead>\n",
       "  <tbody>\n",
       "    <tr>\n",
       "      <th>0</th>\n",
       "      <td>Reliance Industries Ltd.(L)</td>\n",
       "      <td>RELIANCE.NS</td>\n",
       "      <td>1039662</td>\n",
       "    </tr>\n",
       "    <tr>\n",
       "      <th>1</th>\n",
       "      <td>Tata Consultancy Services Ltd.(L)</td>\n",
       "      <td>TCS.NS</td>\n",
       "      <td>775918</td>\n",
       "    </tr>\n",
       "  </tbody>\n",
       "</table>\n",
       "</div>"
      ],
      "text/plain": [
       "                Company Name (M.Cap)      Tickers  Market Cap (Cr)\n",
       "0        Reliance Industries Ltd.(L)  RELIANCE.NS          1039662\n",
       "1  Tata Consultancy Services Ltd.(L)       TCS.NS           775918"
      ]
     },
     "execution_count": 98,
     "metadata": {},
     "output_type": "execute_result"
    }
   ],
   "source": [
    "mcap = pd.read_csv('data/mcap.csv')\n",
    "mcap.head(2)"
   ]
  },
  {
   "cell_type": "code",
   "execution_count": 108,
   "metadata": {},
   "outputs": [],
   "source": [
    "# self.ranks = {d: m * inv for d, inv, m in zip(self.datas, invs, ms)}\n",
    "mcap_dict = {ticker : cap for ticker, cap in zip(mcap['Tickers'].values, mcap['Market Cap (Cr)'].values)}"
   ]
  },
  {
   "cell_type": "code",
   "execution_count": 109,
   "metadata": {},
   "outputs": [
    {
     "data": {
      "text/plain": [
       "{'RELIANCE.NS': 1039662,\n",
       " 'TCS.NS': 775918,\n",
       " 'HDFCBANK.NS': 531433,\n",
       " 'HINDUNILVR.NS': 494932,\n",
       " 'HDFC.NS': 309535,\n",
       " 'BHARTIARTL.NS': 300929,\n",
       " 'INFY.NS': 299671,\n",
       " 'KOTAKBANK.NS': 256977,\n",
       " 'ITC.NS': 239207,\n",
       " 'ICICIBANK.NS': 220911,\n",
       " 'MARUTI.NS': 163946,\n",
       " 'NESTLEIND.NS': 160074,\n",
       " 'SBIN.NS': 158144,\n",
       " 'HCLTECH.NS': 156863,\n",
       " 'ASIANPAINT.NS': 154388,\n",
       " 'BAJFINANCE.NS': 140624,\n",
       " 'LT.NS': 130585,\n",
       " 'WIPRO.NS': 121582,\n",
       " 'AXISBANK.NS': 116675,\n",
       " 'SUNPHARMA.NS': 113633}"
      ]
     },
     "execution_count": 109,
     "metadata": {},
     "output_type": "execute_result"
    }
   ],
   "source": [
    "mcap_dict"
   ]
  },
  {
   "cell_type": "code",
   "execution_count": null,
   "metadata": {},
   "outputs": [],
   "source": []
  }
 ],
 "metadata": {
  "kernelspec": {
   "display_name": "Python 3",
   "language": "python",
   "name": "python3"
  },
  "language_info": {
   "codemirror_mode": {
    "name": "ipython",
    "version": 3
   },
   "file_extension": ".py",
   "mimetype": "text/x-python",
   "name": "python",
   "nbconvert_exporter": "python",
   "pygments_lexer": "ipython3",
   "version": "3.7.3"
  }
 },
 "nbformat": 4,
 "nbformat_minor": 4
}
