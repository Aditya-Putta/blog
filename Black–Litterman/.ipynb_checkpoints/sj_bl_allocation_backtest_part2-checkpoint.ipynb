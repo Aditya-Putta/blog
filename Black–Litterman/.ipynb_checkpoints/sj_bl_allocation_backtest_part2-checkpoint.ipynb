{
 "cells": [
  {
   "cell_type": "markdown",
   "metadata": {},
   "source": [
    "### Construct and Backtest Porfolio from Black–Litterman model for Asset Allocation"
   ]
  },
  {
   "cell_type": "code",
   "execution_count": 2,
   "metadata": {},
   "outputs": [],
   "source": [
    "# necessary imports\n",
    "import pandas as pd\n",
    "import numpy as np\n",
    "import matplotlib.pyplot as plt\n",
    "import seaborn as sns\n",
    "import datetime\n",
    "import yfinance as yf\n",
    "import pyfolio as pf\n",
    "import backtrader as bt\n",
    "idx = pd.IndexSlice\n",
    "\n",
    "%matplotlib inline\n",
    "%config InlineBackend.figure_format = 'retina'"
   ]
  },
  {
   "cell_type": "code",
   "execution_count": 3,
   "metadata": {},
   "outputs": [
    {
     "name": "stdout",
     "output_type": "stream",
     "text": [
      "                   0\n",
      "ASIANPAINT  5.284417\n",
      "AXISBANK    4.471525\n",
      "BAJFINANCE  4.746912\n",
      "BHARTIARTL  5.162227\n",
      "HCLTECH     5.250446\n",
      "HDFC        5.063816\n",
      "HDFCBANK    5.077601\n",
      "HINDUNILVR  5.433075\n",
      "ICICIBANK   4.536164\n",
      "INFY        5.271296\n",
      "ITC         5.364404\n",
      "KOTAKBANK   4.941307\n",
      "LT          4.863962\n",
      "MARUTI      5.006038\n",
      "NESTLEIND   3.785818\n",
      "RELIANCE    5.007140\n",
      "SBIN        4.649017\n",
      "SUNPHARMA   5.369237\n",
      "TCS         5.354129\n",
      "WIPRO       5.361467\n"
     ]
    }
   ],
   "source": [
    "# Read our 20 tickers weights\n",
    "wt_min_vola = pd.read_csv('data/wt_min_vola_wts.csv',  index_col=[0])\n",
    "print(wt_min_vola)"
   ]
  },
  {
   "cell_type": "code",
   "execution_count": 5,
   "metadata": {},
   "outputs": [],
   "source": [
    "# data store path\n",
    "DATA_STORE = '../../../../machine-learning-for-trading-master/\\\n",
    "machine-learning-for-trading-master/data/nse_asset.h5'"
   ]
  },
  {
   "cell_type": "code",
   "execution_count": 6,
   "metadata": {},
   "outputs": [
    {
     "name": "stdout",
     "output_type": "stream",
     "text": [
      "<class 'pandas.io.pytables.HDFStore'>\n",
      "File path: ../../../../machine-learning-for-trading-master/machine-learning-for-trading-master/data/nse_asset.h5\n",
      "/nse/nse50/metadata            frame        (shape->[1,3])      \n",
      "/nse/nse500/metadat            frame        (shape->[1,5])      \n",
      "/nse/nse500/prices             frame        (shape->[2559907,7])\n"
     ]
    }
   ],
   "source": [
    "with pd.HDFStore(DATA_STORE) as store:\n",
    "    print(store.info())"
   ]
  },
  {
   "cell_type": "code",
   "execution_count": 7,
   "metadata": {},
   "outputs": [
    {
     "data": {
      "text/html": [
       "<div>\n",
       "<style scoped>\n",
       "    .dataframe tbody tr th:only-of-type {\n",
       "        vertical-align: middle;\n",
       "    }\n",
       "\n",
       "    .dataframe tbody tr th {\n",
       "        vertical-align: top;\n",
       "    }\n",
       "\n",
       "    .dataframe thead th {\n",
       "        text-align: right;\n",
       "    }\n",
       "</style>\n",
       "<table border=\"1\" class=\"dataframe\">\n",
       "  <thead>\n",
       "    <tr style=\"text-align: right;\">\n",
       "      <th></th>\n",
       "      <th></th>\n",
       "      <th>close</th>\n",
       "      <th>dividend</th>\n",
       "      <th>high</th>\n",
       "      <th>low</th>\n",
       "      <th>open</th>\n",
       "      <th>split</th>\n",
       "      <th>volume</th>\n",
       "    </tr>\n",
       "    <tr>\n",
       "      <th>ticker</th>\n",
       "      <th>date</th>\n",
       "      <th></th>\n",
       "      <th></th>\n",
       "      <th></th>\n",
       "      <th></th>\n",
       "      <th></th>\n",
       "      <th></th>\n",
       "      <th></th>\n",
       "    </tr>\n",
       "  </thead>\n",
       "  <tbody>\n",
       "    <tr>\n",
       "      <th rowspan=\"2\" valign=\"top\">ASIANPAINT</th>\n",
       "      <th>2002-07-01</th>\n",
       "      <td>1.582765</td>\n",
       "      <td>0.0</td>\n",
       "      <td>22.466999</td>\n",
       "      <td>21.367001</td>\n",
       "      <td>21.367001</td>\n",
       "      <td>0.0</td>\n",
       "      <td>87810.0</td>\n",
       "    </tr>\n",
       "    <tr>\n",
       "      <th>2002-07-02</th>\n",
       "      <td>1.599312</td>\n",
       "      <td>0.0</td>\n",
       "      <td>22.783001</td>\n",
       "      <td>21.370001</td>\n",
       "      <td>21.370001</td>\n",
       "      <td>0.0</td>\n",
       "      <td>588615.0</td>\n",
       "    </tr>\n",
       "  </tbody>\n",
       "</table>\n",
       "</div>"
      ],
      "text/plain": [
       "                          close  dividend       high        low       open  \\\n",
       "ticker     date                                                              \n",
       "ASIANPAINT 2002-07-01  1.582765       0.0  22.466999  21.367001  21.367001   \n",
       "           2002-07-02  1.599312       0.0  22.783001  21.370001  21.370001   \n",
       "\n",
       "                       split    volume  \n",
       "ticker     date                         \n",
       "ASIANPAINT 2002-07-01    0.0   87810.0  \n",
       "           2002-07-02    0.0  588615.0  "
      ]
     },
     "execution_count": 7,
     "metadata": {},
     "output_type": "execute_result"
    }
   ],
   "source": [
    "# get the prices for top 20 companies\n",
    "with pd.HDFStore(DATA_STORE) as store:\n",
    "    prices = (store['/nse/nse500/prices'].loc[wt_min_vola.index])\n",
    "prices.head(2)"
   ]
  },
  {
   "cell_type": "code",
   "execution_count": 8,
   "metadata": {},
   "outputs": [
    {
     "name": "stdout",
     "output_type": "stream",
     "text": [
      "<class 'pandas.core.frame.DataFrame'>\n",
      "MultiIndex: 146433 entries, (ASIANPAINT, 2002-07-01 00:00:00) to (WIPRO, 2020-06-10 00:00:00)\n",
      "Data columns (total 7 columns):\n",
      "close       146433 non-null float64\n",
      "dividend    142003 non-null float64\n",
      "high        146433 non-null float64\n",
      "low         146433 non-null float64\n",
      "open        146433 non-null float64\n",
      "split       142003 non-null float64\n",
      "volume      146433 non-null float64\n",
      "dtypes: float64(7)\n",
      "memory usage: 8.5+ MB\n"
     ]
    }
   ],
   "source": [
    "# remove tickers where we have less than 10 years of data.\n",
    "min_obs = 2520\n",
    "nobs = prices.groupby(level='ticker').size()\n",
    "keep = nobs[nobs>min_obs].index\n",
    "\n",
    "prices = prices.loc[idx[keep,:], :]\n",
    "prices.info()"
   ]
  },
  {
   "cell_type": "code",
   "execution_count": 10,
   "metadata": {},
   "outputs": [],
   "source": [
    "# date range for the backtesting\n",
    "fromdate=datetime.datetime(2010, 1, 1)\n",
    "todate=datetime.datetime(2020, 5, 29)"
   ]
  },
  {
   "cell_type": "code",
   "execution_count": 11,
   "metadata": {},
   "outputs": [],
   "source": [
    "# save the data as .csv file\n",
    "prices.to_csv('data/prices_all.csv')"
   ]
  },
  {
   "cell_type": "code",
   "execution_count": 12,
   "metadata": {},
   "outputs": [
    {
     "data": {
      "text/html": [
       "<div>\n",
       "<style scoped>\n",
       "    .dataframe tbody tr th:only-of-type {\n",
       "        vertical-align: middle;\n",
       "    }\n",
       "\n",
       "    .dataframe tbody tr th {\n",
       "        vertical-align: top;\n",
       "    }\n",
       "\n",
       "    .dataframe thead th {\n",
       "        text-align: right;\n",
       "    }\n",
       "</style>\n",
       "<table border=\"1\" class=\"dataframe\">\n",
       "  <thead>\n",
       "    <tr style=\"text-align: right;\">\n",
       "      <th></th>\n",
       "      <th></th>\n",
       "      <th>close</th>\n",
       "      <th>dividend</th>\n",
       "      <th>high</th>\n",
       "      <th>low</th>\n",
       "      <th>open</th>\n",
       "      <th>split</th>\n",
       "      <th>volume</th>\n",
       "    </tr>\n",
       "    <tr>\n",
       "      <th>ticker</th>\n",
       "      <th>date</th>\n",
       "      <th></th>\n",
       "      <th></th>\n",
       "      <th></th>\n",
       "      <th></th>\n",
       "      <th></th>\n",
       "      <th></th>\n",
       "      <th></th>\n",
       "    </tr>\n",
       "  </thead>\n",
       "  <tbody>\n",
       "    <tr>\n",
       "      <th rowspan=\"2\" valign=\"top\">ASIANPAINT</th>\n",
       "      <th>2002-07-01</th>\n",
       "      <td>1.582765</td>\n",
       "      <td>0.0</td>\n",
       "      <td>22.466999</td>\n",
       "      <td>21.367001</td>\n",
       "      <td>21.367001</td>\n",
       "      <td>0.0</td>\n",
       "      <td>87810.0</td>\n",
       "    </tr>\n",
       "    <tr>\n",
       "      <th>2002-07-02</th>\n",
       "      <td>1.599312</td>\n",
       "      <td>0.0</td>\n",
       "      <td>22.783001</td>\n",
       "      <td>21.370001</td>\n",
       "      <td>21.370001</td>\n",
       "      <td>0.0</td>\n",
       "      <td>588615.0</td>\n",
       "    </tr>\n",
       "  </tbody>\n",
       "</table>\n",
       "</div>"
      ],
      "text/plain": [
       "                          close  dividend       high        low       open  \\\n",
       "ticker     date                                                              \n",
       "ASIANPAINT 2002-07-01  1.582765       0.0  22.466999  21.367001  21.367001   \n",
       "           2002-07-02  1.599312       0.0  22.783001  21.370001  21.370001   \n",
       "\n",
       "                       split    volume  \n",
       "ticker     date                         \n",
       "ASIANPAINT 2002-07-01    0.0   87810.0  \n",
       "           2002-07-02    0.0  588615.0  "
      ]
     },
     "execution_count": 12,
     "metadata": {},
     "output_type": "execute_result"
    }
   ],
   "source": [
    "# Read daily prices from csv\n",
    "prices = pd.read_csv('data/prices_all.csv', index_col=['ticker','date'], parse_dates=True)\n",
    "prices.head(2)"
   ]
  },
  {
   "cell_type": "code",
   "execution_count": 13,
   "metadata": {},
   "outputs": [
    {
     "name": "stdout",
     "output_type": "stream",
     "text": [
      "<class 'pandas.core.frame.DataFrame'>\n",
      "MultiIndex: 146433 entries, (ASIANPAINT, 2002-07-01 00:00:00) to (WIPRO, 2020-06-10 00:00:00)\n",
      "Data columns (total 7 columns):\n",
      "close       146433 non-null float64\n",
      "dividend    142003 non-null float64\n",
      "high        146433 non-null float64\n",
      "low         146433 non-null float64\n",
      "open        146433 non-null float64\n",
      "split       142003 non-null float64\n",
      "volume      146433 non-null float64\n",
      "dtypes: float64(7)\n",
      "memory usage: 8.3+ MB\n"
     ]
    }
   ],
   "source": [
    "prices.info()"
   ]
  },
  {
   "cell_type": "code",
   "execution_count": null,
   "metadata": {},
   "outputs": [],
   "source": []
  }
 ],
 "metadata": {
  "kernelspec": {
   "display_name": "Python 3",
   "language": "python",
   "name": "python3"
  },
  "language_info": {
   "codemirror_mode": {
    "name": "ipython",
    "version": 3
   },
   "file_extension": ".py",
   "mimetype": "text/x-python",
   "name": "python",
   "nbconvert_exporter": "python",
   "pygments_lexer": "ipython3",
   "version": "3.7.3"
  }
 },
 "nbformat": 4,
 "nbformat_minor": 4
}
